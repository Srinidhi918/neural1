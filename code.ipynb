{
 "cells": [
  {
   "cell_type": "code",
   "execution_count": 1,
   "id": "c27c7623-8272-4e6d-b5bf-baafc60c666c",
   "metadata": {},
   "outputs": [
    {
     "name": "stdin",
     "output_type": "stream",
     "text": [
      "Enter the string:  Python\n"
     ]
    },
    {
     "name": "stdout",
     "output_type": "stream",
     "text": [
      "Sample output:\n",
      "noht\n"
     ]
    }
   ],
   "source": [
    "#PROGRAM 1\n",
    "# Input the string \"Python\"\n",
    "ip = list(input(\"Enter the string: \"))\n",
    "\n",
    "# Deleting at least 2 characters\n",
    "if len(ip) >= 2:\n",
    "    del ip[:2]\n",
    "\n",
    "# Reverse the obtained string\n",
    "resultant_string = ip[::-1]\n",
    "\n",
    "# Print the final reversed string\n",
    "print(\"Sample output:\")\n",
    "print(\"\".join(resultant_string))"
   ]
  },
  {
   "cell_type": "code",
   "execution_count": 2,
   "id": "cf598eb3-3206-4fc6-8990-e0f3f42a0b1f",
   "metadata": {},
   "outputs": [
    {
     "name": "stdin",
     "output_type": "stream",
     "text": [
      "First number:  6\n",
      "Second number:  4\n"
     ]
    },
    {
     "name": "stdout",
     "output_type": "stream",
     "text": [
      "Arithmetic Operations:\n",
      "Addition: 10\n",
      "Subtraction: 2\n",
      "Multiplication: 24\n",
      "Division: 1.5\n"
     ]
    }
   ],
   "source": [
    "#PROGRAM 2\n",
    "# Taking two numbers from the user\n",
    "n1 = int(input(\"First number: \"))\n",
    "n2 = int(input(\"Second number: \"))\n",
    "\n",
    "# Performing arithmetic operations\n",
    "add_result = n1 + n2\n",
    "sub_result = n1 - n2\n",
    "multi_result = n1 * n2\n",
    "div_result = n1 / n2\n",
    "\n",
    "# Print the results of arithmetic operations\n",
    "print(\"Arithmetic Operations:\")\n",
    "print(f\"Addition: {add_result}\")\n",
    "print(f\"Subtraction: {sub_result}\")\n",
    "print(f\"Multiplication: {multi_result}\")\n",
    "print(f\"Division: {div_result}\")"
   ]
  },
  {
   "cell_type": "code",
   "execution_count": 3,
   "id": "3b395f17-128d-4141-9c84-185df394f499",
   "metadata": {},
   "outputs": [
    {
     "name": "stdin",
     "output_type": "stream",
     "text": [
      "Enter a sentence:  I Love python\n"
     ]
    },
    {
     "name": "stdout",
     "output_type": "stream",
     "text": [
      "Sample output:\n",
      "I Love pythons\n"
     ]
    }
   ],
   "source": [
    "#PROGRAM 3\n",
    "# Taking a sentence from the user\n",
    "inp_sentence = input(\"Enter a sentence: \")\n",
    "\n",
    "# Replacing each occurrence of 'python' with 'pythons'\n",
    "op_sentence = inp_sentence.replace('python', 'pythons')\n",
    "\n",
    "# Print the modified sentence\n",
    "print(\"Sample output:\")\n",
    "print(op_sentence)"
   ]
  },
  {
   "cell_type": "code",
   "execution_count": 4,
   "id": "a9a83507-e070-4e01-b08f-e9260f8fc518",
   "metadata": {},
   "outputs": [
    {
     "name": "stdin",
     "output_type": "stream",
     "text": [
      "Enter class score:  90\n"
     ]
    },
    {
     "name": "stdout",
     "output_type": "stream",
     "text": [
      "The grade 90.0 is: A\n"
     ]
    }
   ],
   "source": [
    "#PROGRAM 4\n",
    "# Take the class score from the user\n",
    "cls_score = float(input(\"Enter class score: \"))\n",
    "\n",
    "# Determining the letter grade based on the grading scheme\n",
    "if 90 <= cls_score <= 100:\n",
    "    grade = 'A'\n",
    "elif 80 <= cls_score < 90:\n",
    "    grade = 'B'\n",
    "elif 70 <= cls_score < 80:\n",
    "    grade = 'C'\n",
    "elif 60 <= cls_score < 70:\n",
    "    grade = 'D'\n",
    "else:\n",
    "    grade = 'F'\n",
    "\n",
    "# Print the letter grade\n",
    "print(f\"The grade {cls_score} is: {grade}\")"
   ]
  },
  {
   "cell_type": "code",
   "execution_count": null,
   "id": "7148a95f-c5ca-41bb-984c-194faa3d4df9",
   "metadata": {},
   "outputs": [],
   "source": []
  }
 ],
 "metadata": {
  "kernelspec": {
   "display_name": "Python 3 (ipykernel)",
   "language": "python",
   "name": "python3"
  },
  "language_info": {
   "codemirror_mode": {
    "name": "ipython",
    "version": 3
   },
   "file_extension": ".py",
   "mimetype": "text/x-python",
   "name": "python",
   "nbconvert_exporter": "python",
   "pygments_lexer": "ipython3",
   "version": "3.11.7"
  }
 },
 "nbformat": 4,
 "nbformat_minor": 5
}
